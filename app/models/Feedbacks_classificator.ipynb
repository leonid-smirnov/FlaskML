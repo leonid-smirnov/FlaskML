{
 "cells": [
  {
   "cell_type": "code",
   "execution_count": 164,
   "id": "7a38ca77",
   "metadata": {},
   "outputs": [
    {
     "name": "stdout",
     "output_type": "stream",
     "text": [
      "Requirement already satisfied: pickle5 in /home/ls/PycharmProjects/FlaskML/venv/lib/python3.8/site-packages (0.0.11)\r\n",
      "Requirement already satisfied: scattertext in /home/ls/PycharmProjects/FlaskML/venv/lib/python3.8/site-packages (0.1.9)\r\n",
      "Requirement already satisfied: wordcloud in /home/ls/PycharmProjects/FlaskML/venv/lib/python3.8/site-packages (1.8.2.2)\r\n",
      "Requirement already satisfied: nltk in /home/ls/PycharmProjects/FlaskML/venv/lib/python3.8/site-packages (3.7)\r\n",
      "Requirement already satisfied: pymorphy2 in /home/ls/PycharmProjects/FlaskML/venv/lib/python3.8/site-packages (0.9.1)\r\n",
      "Requirement already satisfied: emoji in /home/ls/PycharmProjects/FlaskML/venv/lib/python3.8/site-packages (2.2.0)\r\n",
      "Requirement already satisfied: IPython in /home/ls/PycharmProjects/FlaskML/venv/lib/python3.8/site-packages (8.6.0)\r\n",
      "Requirement already satisfied: tqdm in /home/ls/PycharmProjects/FlaskML/venv/lib/python3.8/site-packages (4.64.1)\r\n",
      "Requirement already satisfied: flashtext in /home/ls/PycharmProjects/FlaskML/venv/lib/python3.8/site-packages (from scattertext) (2.7)\r\n",
      "Requirement already satisfied: scikit-learn in /home/ls/PycharmProjects/FlaskML/venv/lib/python3.8/site-packages (from scattertext) (1.1.3)\r\n",
      "Requirement already satisfied: six in /home/ls/PycharmProjects/FlaskML/venv/lib/python3.8/site-packages (from scattertext) (1.16.0)\r\n",
      "Requirement already satisfied: mock in /home/ls/PycharmProjects/FlaskML/venv/lib/python3.8/site-packages (from scattertext) (4.0.3)\r\n",
      "Requirement already satisfied: gensim>=4.0.0 in /home/ls/PycharmProjects/FlaskML/venv/lib/python3.8/site-packages (from scattertext) (4.2.0)\r\n",
      "Requirement already satisfied: numpy in /home/ls/PycharmProjects/FlaskML/venv/lib/python3.8/site-packages (from scattertext) (1.23.5)\r\n",
      "Requirement already satisfied: scipy in /home/ls/PycharmProjects/FlaskML/venv/lib/python3.8/site-packages (from scattertext) (1.9.3)\r\n",
      "Requirement already satisfied: statsmodels in /home/ls/PycharmProjects/FlaskML/venv/lib/python3.8/site-packages (from scattertext) (0.13.5)\r\n",
      "Requirement already satisfied: pandas in /home/ls/PycharmProjects/FlaskML/venv/lib/python3.8/site-packages (from scattertext) (1.5.2)\r\n",
      "Requirement already satisfied: pillow in /home/ls/PycharmProjects/FlaskML/venv/lib/python3.8/site-packages (from wordcloud) (9.3.0)\r\n",
      "Requirement already satisfied: matplotlib in /home/ls/PycharmProjects/FlaskML/venv/lib/python3.8/site-packages (from wordcloud) (3.6.2)\r\n",
      "Requirement already satisfied: joblib in /home/ls/PycharmProjects/FlaskML/venv/lib/python3.8/site-packages (from nltk) (1.2.0)\r\n",
      "Requirement already satisfied: click in /home/ls/PycharmProjects/FlaskML/venv/lib/python3.8/site-packages (from nltk) (8.1.3)\r\n",
      "Requirement already satisfied: regex>=2021.8.3 in /home/ls/PycharmProjects/FlaskML/venv/lib/python3.8/site-packages (from nltk) (2022.10.31)\r\n",
      "Requirement already satisfied: docopt>=0.6 in /home/ls/PycharmProjects/FlaskML/venv/lib/python3.8/site-packages (from pymorphy2) (0.6.2)\r\n",
      "Requirement already satisfied: pymorphy2-dicts-ru<3.0,>=2.4 in /home/ls/PycharmProjects/FlaskML/venv/lib/python3.8/site-packages (from pymorphy2) (2.4.417127.4579844)\r\n",
      "Requirement already satisfied: dawg-python>=0.7.1 in /home/ls/PycharmProjects/FlaskML/venv/lib/python3.8/site-packages (from pymorphy2) (0.7.2)\r\n",
      "Requirement already satisfied: jedi>=0.16 in /home/ls/PycharmProjects/FlaskML/venv/lib/python3.8/site-packages (from IPython) (0.18.2)\r\n",
      "Requirement already satisfied: prompt-toolkit<3.1.0,>3.0.1 in /home/ls/PycharmProjects/FlaskML/venv/lib/python3.8/site-packages (from IPython) (3.0.33)\r\n",
      "Requirement already satisfied: stack-data in /home/ls/PycharmProjects/FlaskML/venv/lib/python3.8/site-packages (from IPython) (0.6.1)\r\n",
      "Requirement already satisfied: backcall in /home/ls/PycharmProjects/FlaskML/venv/lib/python3.8/site-packages (from IPython) (0.2.0)\r\n",
      "Requirement already satisfied: pickleshare in /home/ls/PycharmProjects/FlaskML/venv/lib/python3.8/site-packages (from IPython) (0.7.5)\r\n",
      "Requirement already satisfied: traitlets>=5 in /home/ls/PycharmProjects/FlaskML/venv/lib/python3.8/site-packages (from IPython) (5.5.0)\r\n",
      "Requirement already satisfied: pexpect>4.3 in /home/ls/PycharmProjects/FlaskML/venv/lib/python3.8/site-packages (from IPython) (4.8.0)\r\n",
      "Requirement already satisfied: pygments>=2.4.0 in /home/ls/PycharmProjects/FlaskML/venv/lib/python3.8/site-packages (from IPython) (2.13.0)\r\n",
      "Requirement already satisfied: matplotlib-inline in /home/ls/PycharmProjects/FlaskML/venv/lib/python3.8/site-packages (from IPython) (0.1.6)\r\n",
      "Requirement already satisfied: decorator in /home/ls/PycharmProjects/FlaskML/venv/lib/python3.8/site-packages (from IPython) (5.1.1)\r\n",
      "Requirement already satisfied: smart-open>=1.8.1 in /home/ls/PycharmProjects/FlaskML/venv/lib/python3.8/site-packages (from gensim>=4.0.0->scattertext) (6.2.0)\r\n",
      "Requirement already satisfied: parso<0.9.0,>=0.8.0 in /home/ls/PycharmProjects/FlaskML/venv/lib/python3.8/site-packages (from jedi>=0.16->IPython) (0.8.3)\r\n",
      "Requirement already satisfied: ptyprocess>=0.5 in /home/ls/PycharmProjects/FlaskML/venv/lib/python3.8/site-packages (from pexpect>4.3->IPython) (0.7.0)\r\n",
      "Requirement already satisfied: wcwidth in /home/ls/PycharmProjects/FlaskML/venv/lib/python3.8/site-packages (from prompt-toolkit<3.1.0,>3.0.1->IPython) (0.2.5)\r\n",
      "Requirement already satisfied: cycler>=0.10 in /home/ls/PycharmProjects/FlaskML/venv/lib/python3.8/site-packages (from matplotlib->wordcloud) (0.11.0)\r\n",
      "Requirement already satisfied: pyparsing>=2.2.1 in /home/ls/PycharmProjects/FlaskML/venv/lib/python3.8/site-packages (from matplotlib->wordcloud) (3.0.9)\r\n",
      "Requirement already satisfied: contourpy>=1.0.1 in /home/ls/PycharmProjects/FlaskML/venv/lib/python3.8/site-packages (from matplotlib->wordcloud) (1.0.6)\r\n",
      "Requirement already satisfied: packaging>=20.0 in /home/ls/PycharmProjects/FlaskML/venv/lib/python3.8/site-packages (from matplotlib->wordcloud) (21.3)\r\n",
      "Requirement already satisfied: python-dateutil>=2.7 in /home/ls/PycharmProjects/FlaskML/venv/lib/python3.8/site-packages (from matplotlib->wordcloud) (2.8.2)\r\n",
      "Requirement already satisfied: kiwisolver>=1.0.1 in /home/ls/PycharmProjects/FlaskML/venv/lib/python3.8/site-packages (from matplotlib->wordcloud) (1.4.4)\r\n",
      "Requirement already satisfied: fonttools>=4.22.0 in /home/ls/PycharmProjects/FlaskML/venv/lib/python3.8/site-packages (from matplotlib->wordcloud) (4.38.0)\r\n",
      "Requirement already satisfied: pytz>=2020.1 in /home/ls/PycharmProjects/FlaskML/venv/lib/python3.8/site-packages (from pandas->scattertext) (2022.6)\r\n",
      "Requirement already satisfied: threadpoolctl>=2.0.0 in /home/ls/PycharmProjects/FlaskML/venv/lib/python3.8/site-packages (from scikit-learn->scattertext) (3.1.0)\r\n",
      "Requirement already satisfied: executing>=1.2.0 in /home/ls/PycharmProjects/FlaskML/venv/lib/python3.8/site-packages (from stack-data->IPython) (1.2.0)\r\n",
      "Requirement already satisfied: asttokens>=2.1.0 in /home/ls/PycharmProjects/FlaskML/venv/lib/python3.8/site-packages (from stack-data->IPython) (2.1.0)\r\n",
      "Requirement already satisfied: pure-eval in /home/ls/PycharmProjects/FlaskML/venv/lib/python3.8/site-packages (from stack-data->IPython) (0.2.2)\r\n",
      "Requirement already satisfied: patsy>=0.5.2 in /home/ls/PycharmProjects/FlaskML/venv/lib/python3.8/site-packages (from statsmodels->scattertext) (0.5.3)\r\n",
      "\u001B[33mWARNING: You are using pip version 21.3.1; however, version 22.3.1 is available.\r\n",
      "You should consider upgrading via the '/home/ls/PycharmProjects/FlaskML/venv/bin/python -m pip install --upgrade pip' command.\u001B[0m\r\n"
     ]
    }
   ],
   "source": [
    "# Устанавливаем дополнительные модули\n",
    "!pip install pickle5 nltk IPython nltk;"
   ]
  },
  {
   "cell_type": "code",
   "execution_count": 178,
   "id": "f6e06049",
   "metadata": {},
   "outputs": [
    {
     "data": {
      "text/plain": "<IPython.core.display.HTML object>",
      "text/html": "<style>.container { width:98% !important; }</style>"
     },
     "metadata": {},
     "output_type": "display_data"
    }
   ],
   "source": [
    "# Импорт необходимых библиотек\n",
    "import numpy as np\n",
    "import pandas as pd\n",
    "import json\n",
    "import warnings\n",
    "import dill\n",
    "from sklearn.pipeline import Pipeline, FeatureUnion\n",
    "from sklearn.base import BaseEstimator, TransformerMixin\n",
    "from sklearn.feature_extraction.text import TfidfVectorizer\n",
    "from sklearn.linear_model import LogisticRegression\n",
    "\n",
    "warnings.filterwarnings('ignore')\n",
    "%matplotlib inline"
   ]
  },
  {
   "cell_type": "markdown",
   "id": "122412b4",
   "metadata": {},
   "source": [
    "### Импорт данных"
   ]
  },
  {
   "cell_type": "code",
   "execution_count": 167,
   "id": "64a9b1ae",
   "metadata": {},
   "outputs": [],
   "source": [
    "import pickle5 as pickle\n",
    "with open ('./data/reviews_tonality_X.pkl', 'rb') as fh:\n",
    "    X = pickle.load(fh)\n",
    "with open ('./data/reviews_tonality_y.pkl', 'rb') as fh:\n",
    "    y = pickle.load(fh)\n",
    "X['tonality'] = y"
   ]
  },
  {
   "cell_type": "code",
   "execution_count": 169,
   "outputs": [],
   "source": [
    "from sklearn.model_selection import train_test_split\n",
    "X_train, X_test, y_train, y_test = train_test_split(X, y, test_size=.2, random_state=147)"
   ],
   "metadata": {
    "collapsed": false
   }
  },
  {
   "cell_type": "code",
   "execution_count": 170,
   "outputs": [],
   "source": [
    "#save test\n",
    "X_test.to_csv(\"X_test.csv\", index=None)\n",
    "y_test.to_csv(\"y_test.csv\", index=None)\n",
    "#save train\n",
    "X_train.to_csv(\"X_train.csv\", index=None)\n",
    "y_train.to_csv(\"y_train.csv\", index=None)"
   ],
   "metadata": {
    "collapsed": false
   }
  },
  {
   "cell_type": "code",
   "execution_count": 171,
   "outputs": [],
   "source": [
    "class ColumnSelector(BaseEstimator, TransformerMixin):\n",
    "\n",
    "    def __init__(self, key):\n",
    "        self.key = key\n",
    "\n",
    "    def fit(self, X, y=None):\n",
    "        return self\n",
    "\n",
    "    def transform(self, X):\n",
    "        return X[self.key]\n",
    "\n",
    "class TextImputer(BaseEstimator, TransformerMixin):\n",
    "    def __init__(self, key, value):\n",
    "        self.key = key\n",
    "        self.value = value\n",
    "    def fit(self, X, y=None):\n",
    "        return self\n",
    "    def transform(self, X):\n",
    "        X[self.key] = X[self.key].fillna(self.value)\n",
    "        return X"
   ],
   "metadata": {
    "collapsed": false
   }
  },
  {
   "cell_type": "code",
   "execution_count": 172,
   "outputs": [],
   "source": [
    "features = ['text']\n",
    "target = 'tonality'"
   ],
   "metadata": {
    "collapsed": false
   }
  },
  {
   "cell_type": "code",
   "execution_count": 173,
   "outputs": [],
   "source": [
    "feats = Pipeline([\n",
    "                ('imputer', TextImputer('text', '')),\n",
    "                ('selector', ColumnSelector(key='text')),\n",
    "                ('tfidf', TfidfVectorizer(max_df=0.9, min_df=10))\n",
    "            ])"
   ],
   "metadata": {
    "collapsed": false
   }
  },
  {
   "cell_type": "code",
   "execution_count": 175,
   "outputs": [
    {
     "name": "stdout",
     "output_type": "stream",
     "text": [
      "CPU times: user 3.32 s, sys: 40 ms, total: 3.36 s\n",
      "Wall time: 4.17 s\n"
     ]
    },
    {
     "data": {
      "text/plain": "Pipeline(steps=[('features',\n                 Pipeline(steps=[('imputer', TextImputer(key='text', value='')),\n                                 ('selector', ColumnSelector(key='text')),\n                                 ('tfidf',\n                                  TfidfVectorizer(max_df=0.9, min_df=10))])),\n                ('classifier', LogisticRegression())])",
      "text/html": "<style>#sk-container-id-4 {color: black;background-color: white;}#sk-container-id-4 pre{padding: 0;}#sk-container-id-4 div.sk-toggleable {background-color: white;}#sk-container-id-4 label.sk-toggleable__label {cursor: pointer;display: block;width: 100%;margin-bottom: 0;padding: 0.3em;box-sizing: border-box;text-align: center;}#sk-container-id-4 label.sk-toggleable__label-arrow:before {content: \"▸\";float: left;margin-right: 0.25em;color: #696969;}#sk-container-id-4 label.sk-toggleable__label-arrow:hover:before {color: black;}#sk-container-id-4 div.sk-estimator:hover label.sk-toggleable__label-arrow:before {color: black;}#sk-container-id-4 div.sk-toggleable__content {max-height: 0;max-width: 0;overflow: hidden;text-align: left;background-color: #f0f8ff;}#sk-container-id-4 div.sk-toggleable__content pre {margin: 0.2em;color: black;border-radius: 0.25em;background-color: #f0f8ff;}#sk-container-id-4 input.sk-toggleable__control:checked~div.sk-toggleable__content {max-height: 200px;max-width: 100%;overflow: auto;}#sk-container-id-4 input.sk-toggleable__control:checked~label.sk-toggleable__label-arrow:before {content: \"▾\";}#sk-container-id-4 div.sk-estimator input.sk-toggleable__control:checked~label.sk-toggleable__label {background-color: #d4ebff;}#sk-container-id-4 div.sk-label input.sk-toggleable__control:checked~label.sk-toggleable__label {background-color: #d4ebff;}#sk-container-id-4 input.sk-hidden--visually {border: 0;clip: rect(1px 1px 1px 1px);clip: rect(1px, 1px, 1px, 1px);height: 1px;margin: -1px;overflow: hidden;padding: 0;position: absolute;width: 1px;}#sk-container-id-4 div.sk-estimator {font-family: monospace;background-color: #f0f8ff;border: 1px dotted black;border-radius: 0.25em;box-sizing: border-box;margin-bottom: 0.5em;}#sk-container-id-4 div.sk-estimator:hover {background-color: #d4ebff;}#sk-container-id-4 div.sk-parallel-item::after {content: \"\";width: 100%;border-bottom: 1px solid gray;flex-grow: 1;}#sk-container-id-4 div.sk-label:hover label.sk-toggleable__label {background-color: #d4ebff;}#sk-container-id-4 div.sk-serial::before {content: \"\";position: absolute;border-left: 1px solid gray;box-sizing: border-box;top: 0;bottom: 0;left: 50%;z-index: 0;}#sk-container-id-4 div.sk-serial {display: flex;flex-direction: column;align-items: center;background-color: white;padding-right: 0.2em;padding-left: 0.2em;position: relative;}#sk-container-id-4 div.sk-item {position: relative;z-index: 1;}#sk-container-id-4 div.sk-parallel {display: flex;align-items: stretch;justify-content: center;background-color: white;position: relative;}#sk-container-id-4 div.sk-item::before, #sk-container-id-4 div.sk-parallel-item::before {content: \"\";position: absolute;border-left: 1px solid gray;box-sizing: border-box;top: 0;bottom: 0;left: 50%;z-index: -1;}#sk-container-id-4 div.sk-parallel-item {display: flex;flex-direction: column;z-index: 1;position: relative;background-color: white;}#sk-container-id-4 div.sk-parallel-item:first-child::after {align-self: flex-end;width: 50%;}#sk-container-id-4 div.sk-parallel-item:last-child::after {align-self: flex-start;width: 50%;}#sk-container-id-4 div.sk-parallel-item:only-child::after {width: 0;}#sk-container-id-4 div.sk-dashed-wrapped {border: 1px dashed gray;margin: 0 0.4em 0.5em 0.4em;box-sizing: border-box;padding-bottom: 0.4em;background-color: white;}#sk-container-id-4 div.sk-label label {font-family: monospace;font-weight: bold;display: inline-block;line-height: 1.2em;}#sk-container-id-4 div.sk-label-container {text-align: center;}#sk-container-id-4 div.sk-container {/* jupyter's `normalize.less` sets `[hidden] { display: none; }` but bootstrap.min.css set `[hidden] { display: none !important; }` so we also need the `!important` here to be able to override the default hidden behavior on the sphinx rendered scikit-learn.org. See: https://github.com/scikit-learn/scikit-learn/issues/21755 */display: inline-block !important;position: relative;}#sk-container-id-4 div.sk-text-repr-fallback {display: none;}</style><div id=\"sk-container-id-4\" class=\"sk-top-container\"><div class=\"sk-text-repr-fallback\"><pre>Pipeline(steps=[(&#x27;features&#x27;,\n                 Pipeline(steps=[(&#x27;imputer&#x27;, TextImputer(key=&#x27;text&#x27;, value=&#x27;&#x27;)),\n                                 (&#x27;selector&#x27;, ColumnSelector(key=&#x27;text&#x27;)),\n                                 (&#x27;tfidf&#x27;,\n                                  TfidfVectorizer(max_df=0.9, min_df=10))])),\n                (&#x27;classifier&#x27;, LogisticRegression())])</pre><b>In a Jupyter environment, please rerun this cell to show the HTML representation or trust the notebook. <br />On GitHub, the HTML representation is unable to render, please try loading this page with nbviewer.org.</b></div><div class=\"sk-container\" hidden><div class=\"sk-item sk-dashed-wrapped\"><div class=\"sk-label-container\"><div class=\"sk-label sk-toggleable\"><input class=\"sk-toggleable__control sk-hidden--visually\" id=\"sk-estimator-id-13\" type=\"checkbox\" ><label for=\"sk-estimator-id-13\" class=\"sk-toggleable__label sk-toggleable__label-arrow\">Pipeline</label><div class=\"sk-toggleable__content\"><pre>Pipeline(steps=[(&#x27;features&#x27;,\n                 Pipeline(steps=[(&#x27;imputer&#x27;, TextImputer(key=&#x27;text&#x27;, value=&#x27;&#x27;)),\n                                 (&#x27;selector&#x27;, ColumnSelector(key=&#x27;text&#x27;)),\n                                 (&#x27;tfidf&#x27;,\n                                  TfidfVectorizer(max_df=0.9, min_df=10))])),\n                (&#x27;classifier&#x27;, LogisticRegression())])</pre></div></div></div><div class=\"sk-serial\"><div class=\"sk-item\"><div class=\"sk-label-container\"><div class=\"sk-label sk-toggleable\"><input class=\"sk-toggleable__control sk-hidden--visually\" id=\"sk-estimator-id-14\" type=\"checkbox\" ><label for=\"sk-estimator-id-14\" class=\"sk-toggleable__label sk-toggleable__label-arrow\">features: Pipeline</label><div class=\"sk-toggleable__content\"><pre>Pipeline(steps=[(&#x27;imputer&#x27;, TextImputer(key=&#x27;text&#x27;, value=&#x27;&#x27;)),\n                (&#x27;selector&#x27;, ColumnSelector(key=&#x27;text&#x27;)),\n                (&#x27;tfidf&#x27;, TfidfVectorizer(max_df=0.9, min_df=10))])</pre></div></div></div><div class=\"sk-serial\"><div class=\"sk-item\"><div class=\"sk-estimator sk-toggleable\"><input class=\"sk-toggleable__control sk-hidden--visually\" id=\"sk-estimator-id-15\" type=\"checkbox\" ><label for=\"sk-estimator-id-15\" class=\"sk-toggleable__label sk-toggleable__label-arrow\">TextImputer</label><div class=\"sk-toggleable__content\"><pre>TextImputer(key=&#x27;text&#x27;, value=&#x27;&#x27;)</pre></div></div></div><div class=\"sk-item\"><div class=\"sk-estimator sk-toggleable\"><input class=\"sk-toggleable__control sk-hidden--visually\" id=\"sk-estimator-id-16\" type=\"checkbox\" ><label for=\"sk-estimator-id-16\" class=\"sk-toggleable__label sk-toggleable__label-arrow\">ColumnSelector</label><div class=\"sk-toggleable__content\"><pre>ColumnSelector(key=&#x27;text&#x27;)</pre></div></div></div><div class=\"sk-item\"><div class=\"sk-estimator sk-toggleable\"><input class=\"sk-toggleable__control sk-hidden--visually\" id=\"sk-estimator-id-17\" type=\"checkbox\" ><label for=\"sk-estimator-id-17\" class=\"sk-toggleable__label sk-toggleable__label-arrow\">TfidfVectorizer</label><div class=\"sk-toggleable__content\"><pre>TfidfVectorizer(max_df=0.9, min_df=10)</pre></div></div></div></div></div><div class=\"sk-item\"><div class=\"sk-estimator sk-toggleable\"><input class=\"sk-toggleable__control sk-hidden--visually\" id=\"sk-estimator-id-18\" type=\"checkbox\" ><label for=\"sk-estimator-id-18\" class=\"sk-toggleable__label sk-toggleable__label-arrow\">LogisticRegression</label><div class=\"sk-toggleable__content\"><pre>LogisticRegression()</pre></div></div></div></div></div></div></div>"
     },
     "execution_count": 175,
     "metadata": {},
     "output_type": "execute_result"
    }
   ],
   "source": [
    "%%time\n",
    "\n",
    "pipeline = Pipeline([\n",
    "    ('features',feats),\n",
    "    ('classifier', LogisticRegression()),\n",
    "])\n",
    "\n",
    "pipeline.fit(X_train, y_train)"
   ],
   "metadata": {
    "collapsed": false
   }
  },
  {
   "cell_type": "code",
   "execution_count": 176,
   "outputs": [
    {
     "data": {
      "text/plain": "[('features',\n  Pipeline(steps=[('imputer', TextImputer(key='text', value='')),\n                  ('selector', ColumnSelector(key='text')),\n                  ('tfidf', TfidfVectorizer(max_df=0.9, min_df=10))])),\n ('classifier', LogisticRegression())]"
     },
     "execution_count": 176,
     "metadata": {},
     "output_type": "execute_result"
    }
   ],
   "source": [
    "pipeline.steps"
   ],
   "metadata": {
    "collapsed": false
   }
  },
  {
   "cell_type": "code",
   "execution_count": 179,
   "outputs": [],
   "source": [
    "with open(\"logreg_pipeline.dill\", \"wb\") as f:\n",
    "    dill.dump(pipeline, f)"
   ],
   "metadata": {
    "collapsed": false
   }
  }
 ],
 "metadata": {
  "kernelspec": {
   "display_name": "Python 3 (ipykernel)",
   "language": "python",
   "name": "python3"
  },
  "language_info": {
   "codemirror_mode": {
    "name": "ipython",
    "version": 3
   },
   "file_extension": ".py",
   "mimetype": "text/x-python",
   "name": "python",
   "nbconvert_exporter": "python",
   "pygments_lexer": "ipython3",
   "version": "3.8.8"
  }
 },
 "nbformat": 4,
 "nbformat_minor": 5
}
